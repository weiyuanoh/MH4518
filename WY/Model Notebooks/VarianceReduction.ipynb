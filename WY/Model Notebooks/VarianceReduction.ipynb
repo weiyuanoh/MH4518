{
 "cells": [
  {
   "cell_type": "code",
   "execution_count": 1,
   "metadata": {},
   "outputs": [],
   "source": [
    "import pandas as pd \n",
    "import numpy as np \n",
    "import matplotlib.pyplot as plt\n",
    "import matplotlib\n",
    "import yfinance as yfin\n",
    "import MH4518.WY.Utils.constants as cs\n",
    "import MH4518.WY.Utils.Dates as dates \n",
    "import MH4518.WY.Utils.payoff as pf\n",
    "import MH4518.WY.Utils.VarianceRedFunc as vr \n",
    "import MH4518.WY.Utils.GBM as gbm \n",
    "import warnings\n",
    "warnings.filterwarnings(\"ignore\")\n",
    "import MH4518.WY.Utils.ProductPrice as pp \n",
    "\n",
    "\n",
    "%reload_ext autoreload\n",
    "%autoreload 2"
   ]
  },
  {
   "cell_type": "code",
   "execution_count": 2,
   "metadata": {},
   "outputs": [
    {
     "name": "stderr",
     "output_type": "stream",
     "text": [
      "[*********************100%***********************]  2 of 2 completed\n"
     ]
    },
    {
     "data": {
      "text/html": [
       "<div>\n",
       "<style scoped>\n",
       "    .dataframe tbody tr th:only-of-type {\n",
       "        vertical-align: middle;\n",
       "    }\n",
       "\n",
       "    .dataframe tbody tr th {\n",
       "        vertical-align: top;\n",
       "    }\n",
       "\n",
       "    .dataframe thead th {\n",
       "        text-align: right;\n",
       "    }\n",
       "</style>\n",
       "<table border=\"1\" class=\"dataframe\">\n",
       "  <thead>\n",
       "    <tr style=\"text-align: right;\">\n",
       "      <th>Ticker</th>\n",
       "      <th>LONN.SW</th>\n",
       "      <th>SIKA.SW</th>\n",
       "    </tr>\n",
       "    <tr>\n",
       "      <th>Date</th>\n",
       "      <th></th>\n",
       "      <th></th>\n",
       "    </tr>\n",
       "  </thead>\n",
       "  <tbody>\n",
       "    <tr>\n",
       "      <th>2023-04-27</th>\n",
       "      <td>542.120483</td>\n",
       "      <td>237.429871</td>\n",
       "    </tr>\n",
       "    <tr>\n",
       "      <th>2023-04-28</th>\n",
       "      <td>546.263367</td>\n",
       "      <td>242.368103</td>\n",
       "    </tr>\n",
       "    <tr>\n",
       "      <th>2023-05-02</th>\n",
       "      <td>545.868896</td>\n",
       "      <td>239.800232</td>\n",
       "    </tr>\n",
       "    <tr>\n",
       "      <th>2023-05-03</th>\n",
       "      <td>574.079590</td>\n",
       "      <td>241.479218</td>\n",
       "    </tr>\n",
       "    <tr>\n",
       "      <th>2023-05-04</th>\n",
       "      <td>572.895935</td>\n",
       "      <td>242.071823</td>\n",
       "    </tr>\n",
       "    <tr>\n",
       "      <th>...</th>\n",
       "      <td>...</td>\n",
       "      <td>...</td>\n",
       "    </tr>\n",
       "    <tr>\n",
       "      <th>2024-07-24</th>\n",
       "      <td>522.599976</td>\n",
       "      <td>262.000000</td>\n",
       "    </tr>\n",
       "    <tr>\n",
       "      <th>2024-07-25</th>\n",
       "      <td>559.799988</td>\n",
       "      <td>258.500000</td>\n",
       "    </tr>\n",
       "    <tr>\n",
       "      <th>2024-07-26</th>\n",
       "      <td>581.000000</td>\n",
       "      <td>262.000000</td>\n",
       "    </tr>\n",
       "    <tr>\n",
       "      <th>2024-07-29</th>\n",
       "      <td>575.200012</td>\n",
       "      <td>263.700012</td>\n",
       "    </tr>\n",
       "    <tr>\n",
       "      <th>2024-07-30</th>\n",
       "      <td>578.799988</td>\n",
       "      <td>269.100006</td>\n",
       "    </tr>\n",
       "  </tbody>\n",
       "</table>\n",
       "<p>316 rows × 2 columns</p>\n",
       "</div>"
      ],
      "text/plain": [
       "Ticker         LONN.SW     SIKA.SW\n",
       "Date                              \n",
       "2023-04-27  542.120483  237.429871\n",
       "2023-04-28  546.263367  242.368103\n",
       "2023-05-02  545.868896  239.800232\n",
       "2023-05-03  574.079590  241.479218\n",
       "2023-05-04  572.895935  242.071823\n",
       "...                ...         ...\n",
       "2024-07-24  522.599976  262.000000\n",
       "2024-07-25  559.799988  258.500000\n",
       "2024-07-26  581.000000  262.000000\n",
       "2024-07-29  575.200012  263.700012\n",
       "2024-07-30  578.799988  269.100006\n",
       "\n",
       "[316 rows x 2 columns]"
      ]
     },
     "execution_count": 2,
     "metadata": {},
     "output_type": "execute_result"
    }
   ],
   "source": [
    "def getdata():\n",
    "    data = yfin.download(['LONN.SW', 'SIKA.SW'], period= 'max')['Adj Close']\n",
    "    data.index = data.index.tz_localize(None)\n",
    "    data = data.loc[cs.initial_fixing_date: cs.final_fixing_date]\n",
    "    return data \n",
    "\n",
    "data = getdata()\n",
    "data"
   ]
  },
  {
   "cell_type": "code",
   "execution_count": 28,
   "metadata": {},
   "outputs": [
    {
     "data": {
      "text/plain": [
       "np.float64(465.3207055586803)"
      ]
     },
     "execution_count": 28,
     "metadata": {},
     "output_type": "execute_result"
    }
   ],
   "source": [
    "data[\"LONN.SW\"].mean()"
   ]
  },
  {
   "cell_type": "code",
   "execution_count": 3,
   "metadata": {},
   "outputs": [],
   "source": [
    "params_product = {\n",
    "    'Denomination': 1000,\n",
    "    'Coupon_Rate': (0.08 / 4) ,  # Quarterly coupon payments\n",
    "}"
   ]
  },
  {
   "cell_type": "markdown",
   "metadata": {},
   "source": [
    "# Control Variate "
   ]
  },
  {
   "cell_type": "code",
   "execution_count": 31,
   "metadata": {},
   "outputs": [
    {
     "name": "stdout",
     "output_type": "stream",
     "text": [
      "Length of date_list: 1\n",
      "Number of time steps (num_steps): 1\n"
     ]
    },
    {
     "data": {
      "text/plain": [
       "MultiIndex([('LONN.SW',  'sim1'),\n",
       "            ('LONN.SW',  'sim2'),\n",
       "            ('LONN.SW',  'sim3'),\n",
       "            ('LONN.SW',  'sim4'),\n",
       "            ('LONN.SW',  'sim5'),\n",
       "            ('LONN.SW',  'sim6'),\n",
       "            ('LONN.SW',  'sim7'),\n",
       "            ('LONN.SW',  'sim8'),\n",
       "            ('LONN.SW',  'sim9'),\n",
       "            ('LONN.SW', 'sim10'),\n",
       "            ('SIKA.SW',  'sim1'),\n",
       "            ('SIKA.SW',  'sim2'),\n",
       "            ('SIKA.SW',  'sim3'),\n",
       "            ('SIKA.SW',  'sim4'),\n",
       "            ('SIKA.SW',  'sim5'),\n",
       "            ('SIKA.SW',  'sim6'),\n",
       "            ('SIKA.SW',  'sim7'),\n",
       "            ('SIKA.SW',  'sim8'),\n",
       "            ('SIKA.SW',  'sim9'),\n",
       "            ('SIKA.SW', 'sim10')],\n",
       "           names=['Asset', 'Simulation'])"
      ]
     },
     "execution_count": 31,
     "metadata": {},
     "output_type": "execute_result"
    }
   ],
   "source": [
    "sim_t = gbm.multi_asset_gbm_n_sims(plot= False, plotasset= False, nsims=10, data = data, fdos= cs.final_fixing_date)\n",
    "sim_t.columns"
   ]
  },
  {
   "cell_type": "code",
   "execution_count": 32,
   "metadata": {},
   "outputs": [],
   "source": [
    "# Extract asset paths\n",
    "lonza_path = sim_t['LONN.SW']\n",
    "sika_path = sim_t['SIKA.SW']"
   ]
  },
  {
   "cell_type": "code",
   "execution_count": 33,
   "metadata": {},
   "outputs": [
    {
     "data": {
      "text/html": [
       "<div>\n",
       "<style scoped>\n",
       "    .dataframe tbody tr th:only-of-type {\n",
       "        vertical-align: middle;\n",
       "    }\n",
       "\n",
       "    .dataframe tbody tr th {\n",
       "        vertical-align: top;\n",
       "    }\n",
       "\n",
       "    .dataframe thead th {\n",
       "        text-align: right;\n",
       "    }\n",
       "</style>\n",
       "<table border=\"1\" class=\"dataframe\">\n",
       "  <thead>\n",
       "    <tr style=\"text-align: right;\">\n",
       "      <th>Simulation</th>\n",
       "      <th>sim1</th>\n",
       "      <th>sim2</th>\n",
       "      <th>sim3</th>\n",
       "      <th>sim4</th>\n",
       "      <th>sim5</th>\n",
       "      <th>sim6</th>\n",
       "      <th>sim7</th>\n",
       "      <th>sim8</th>\n",
       "      <th>sim9</th>\n",
       "      <th>sim10</th>\n",
       "    </tr>\n",
       "  </thead>\n",
       "  <tbody>\n",
       "    <tr>\n",
       "      <th>2024-07-30</th>\n",
       "      <td>269.100006</td>\n",
       "      <td>269.100006</td>\n",
       "      <td>269.100006</td>\n",
       "      <td>269.100006</td>\n",
       "      <td>269.100006</td>\n",
       "      <td>269.100006</td>\n",
       "      <td>269.100006</td>\n",
       "      <td>269.100006</td>\n",
       "      <td>269.100006</td>\n",
       "      <td>269.100006</td>\n",
       "    </tr>\n",
       "  </tbody>\n",
       "</table>\n",
       "</div>"
      ],
      "text/plain": [
       "Simulation        sim1        sim2        sim3        sim4        sim5  \\\n",
       "2024-07-30  269.100006  269.100006  269.100006  269.100006  269.100006   \n",
       "\n",
       "Simulation        sim6        sim7        sim8        sim9       sim10  \n",
       "2024-07-30  269.100006  269.100006  269.100006  269.100006  269.100006  "
      ]
     },
     "execution_count": 33,
     "metadata": {},
     "output_type": "execute_result"
    }
   ],
   "source": [
    "sika_path"
   ]
  },
  {
   "cell_type": "code",
   "execution_count": 6,
   "metadata": {},
   "outputs": [],
   "source": [
    "payoff_gbm_t = pf.payoff(paths1=lonza_path, paths2=sika_path, params=params_product, fdos = cs.initial_fixing_date)"
   ]
  },
  {
   "cell_type": "code",
   "execution_count": 26,
   "metadata": {},
   "outputs": [],
   "source": [
    "def cv2(payoff_gbm, data: pd.DataFrame, fdos, original_sika):\n",
    "    '''\n",
    "    Takes in simulated payoff_gbm.\n",
    "    E_Y is the mean of Lonza for a new set of randomness \n",
    "    \n",
    "    Params:\n",
    "        lonza_path: dataframe of lonza paths on the cs.initial_fixing_date for n sims\n",
    "    \n",
    "    '''\n",
    "    params_product = {\n",
    "    'Denomination': 1000,\n",
    "    'Coupon_Rate': (0.08 / 4) ,  # Quarterly coupon payments\n",
    "}\n",
    "\n",
    "\n",
    "    # computing beta with initial set of GBM simulations \n",
    "    terminal_original_sika = original_sika.iloc[-1].values\n",
    "    var_X = np.var(payoff_gbm, ddof = 1)\n",
    "    var_Y = np.var(terminal_original_sika, ddof = 1)\n",
    "    print('Var_Y:', var_Y)\n",
    "    cov_matrix = np.cov(payoff_gbm, terminal_original_sika, ddof=1)\n",
    "    cov_XY = cov_matrix[0,1]\n",
    "\n",
    "    corr_XY =   cov_XY / np.sqrt(var_X * var_Y)  \n",
    "    print(f\"Correlation between X and Y: {corr_XY:.4f}\") \n",
    "    beta = cov_XY / var_Y\n",
    "    print(f\"Beta (β) Coefficient: {beta}\")\n",
    "        # Compute control variate estimator\n",
    "\n",
    "    # compute mean_X and mean_Y with new set of randomness\n",
    "    sim_extra = gbm.multi_asset_gbm_n_sims(plot= False, plotasset= False, nsims=cs.n_sims, data=data, fdos = fdos) #new lonza set of randomness \n",
    "    sika_path_new = sim_extra['LONN.SW']\n",
    "    sika_path_new_terminal = sika_path_new.iloc[-1].values\n",
    "    lonza_path_new = sim_extra['SIKA.SW']\n",
    "    lonza_path_new_terminal = lonza_path_new.iloc[-1].values\n",
    "    payoff_extra = pf.payoff(lonza_path_new, sika_path_new, params_product, fdos) # new set of X\n",
    "    mean_X = np.mean(payoff_extra)\n",
    "    mean_Y = np.mean(lonza_path_new_terminal)\n",
    "    E_Y = data[\"LONN.SW\"].mean()\n",
    "    theta_CV = mean_X + beta * (mean_Y - E_Y)\n",
    "    print(\"Correction:\", mean_Y - E_Y)\n",
    "\n",
    "    var_theta_CV = var_X - (cov_XY ** 2) / var_Y\n",
    "    variance_reduction = (var_X - var_theta_CV) / var_X * 100\n",
    "    print(f\"Variance Reduction Achieved: {variance_reduction:.2f}%\")\n",
    "    print(\"CV Estimate Payoff :\", theta_CV)\n",
    "    return theta_CV"
   ]
  },
  {
   "cell_type": "code",
   "execution_count": 29,
   "metadata": {},
   "outputs": [
    {
     "data": {
      "text/plain": [
       "date\n",
       "2023-04-28    974.0\n",
       "2023-05-02    972.7\n",
       "2023-05-03    980.9\n",
       "2023-05-04    985.1\n",
       "2023-05-05    988.2\n",
       "              ...  \n",
       "2024-07-24    940.1\n",
       "2024-07-25    985.6\n",
       "2024-07-26    991.5\n",
       "2024-07-29    991.1\n",
       "2024-07-30    990.9\n",
       "Name: value, Length: 309, dtype: float64"
      ]
     },
     "execution_count": 29,
     "metadata": {},
     "output_type": "execute_result"
    }
   ],
   "source": [
    "pp.product_price()"
   ]
  },
  {
   "cell_type": "code",
   "execution_count": 34,
   "metadata": {},
   "outputs": [
    {
     "data": {
      "text/plain": [
       "date\n",
       "2023-04-28    974.0\n",
       "2023-05-02    972.7\n",
       "2023-05-03    980.9\n",
       "2023-05-04    985.1\n",
       "2023-05-05    988.2\n",
       "              ...  \n",
       "2024-07-24    940.1\n",
       "2024-07-25    985.6\n",
       "2024-07-26    991.5\n",
       "2024-07-29    991.1\n",
       "2024-07-30    990.9\n",
       "Name: value, Length: 309, dtype: float64"
      ]
     },
     "execution_count": 34,
     "metadata": {},
     "output_type": "execute_result"
    }
   ],
   "source": [
    "pp.product_price()\n"
   ]
  },
  {
   "cell_type": "code",
   "execution_count": null,
   "metadata": {},
   "outputs": [],
   "source": []
  }
 ],
 "metadata": {
  "kernelspec": {
   "display_name": ".venv",
   "language": "python",
   "name": "python3"
  },
  "language_info": {
   "codemirror_mode": {
    "name": "ipython",
    "version": 3
   },
   "file_extension": ".py",
   "mimetype": "text/x-python",
   "name": "python",
   "nbconvert_exporter": "python",
   "pygments_lexer": "ipython3",
   "version": "3.10.7"
  }
 },
 "nbformat": 4,
 "nbformat_minor": 2
}
