{
 "cells": [
  {
   "cell_type": "code",
   "execution_count": 1,
   "metadata": {},
   "outputs": [],
   "source": [
    "import pandas as pd \n",
    "import numpy as np \n",
    "import matplotlib.pyplot as plt\n",
    "import matplotlib\n",
    "import yfinance as yfin\n",
    "import MH4518.WY.Utils.constants as cs\n",
    "import MH4518.WY.Utils.Dates as dates \n",
    "import MH4518.WY.Utils.payoff as pf\n",
    "import MH4518.WY.Utils.VarianceRedFunc as vr \n",
    "import MH4518.WY.Utils.GBM as gbm \n",
    "import warnings\n",
    "warnings.filterwarnings(\"ignore\")\n",
    "import MH4518.WY.Utils.ProductPrice as pp \n",
    "\n",
    "\n",
    "%reload_ext autoreload\n",
    "%autoreload 2"
   ]
  },
  {
   "cell_type": "code",
   "execution_count": 2,
   "metadata": {},
   "outputs": [
    {
     "name": "stderr",
     "output_type": "stream",
     "text": [
      "[*********************100%***********************]  2 of 2 completed\n"
     ]
    },
    {
     "data": {
      "text/html": [
       "<div>\n",
       "<style scoped>\n",
       "    .dataframe tbody tr th:only-of-type {\n",
       "        vertical-align: middle;\n",
       "    }\n",
       "\n",
       "    .dataframe tbody tr th {\n",
       "        vertical-align: top;\n",
       "    }\n",
       "\n",
       "    .dataframe thead th {\n",
       "        text-align: right;\n",
       "    }\n",
       "</style>\n",
       "<table border=\"1\" class=\"dataframe\">\n",
       "  <thead>\n",
       "    <tr style=\"text-align: right;\">\n",
       "      <th>Ticker</th>\n",
       "      <th>LONN.SW</th>\n",
       "      <th>SIKA.SW</th>\n",
       "    </tr>\n",
       "    <tr>\n",
       "      <th>Date</th>\n",
       "      <th></th>\n",
       "      <th></th>\n",
       "    </tr>\n",
       "  </thead>\n",
       "  <tbody>\n",
       "    <tr>\n",
       "      <th>2023-04-27</th>\n",
       "      <td>542.120483</td>\n",
       "      <td>237.429871</td>\n",
       "    </tr>\n",
       "    <tr>\n",
       "      <th>2023-04-28</th>\n",
       "      <td>546.263367</td>\n",
       "      <td>242.368103</td>\n",
       "    </tr>\n",
       "    <tr>\n",
       "      <th>2023-05-02</th>\n",
       "      <td>545.868896</td>\n",
       "      <td>239.800232</td>\n",
       "    </tr>\n",
       "    <tr>\n",
       "      <th>2023-05-03</th>\n",
       "      <td>574.079590</td>\n",
       "      <td>241.479218</td>\n",
       "    </tr>\n",
       "    <tr>\n",
       "      <th>2023-05-04</th>\n",
       "      <td>572.895935</td>\n",
       "      <td>242.071823</td>\n",
       "    </tr>\n",
       "    <tr>\n",
       "      <th>...</th>\n",
       "      <td>...</td>\n",
       "      <td>...</td>\n",
       "    </tr>\n",
       "    <tr>\n",
       "      <th>2024-07-24</th>\n",
       "      <td>522.599976</td>\n",
       "      <td>262.000000</td>\n",
       "    </tr>\n",
       "    <tr>\n",
       "      <th>2024-07-25</th>\n",
       "      <td>559.799988</td>\n",
       "      <td>258.500000</td>\n",
       "    </tr>\n",
       "    <tr>\n",
       "      <th>2024-07-26</th>\n",
       "      <td>581.000000</td>\n",
       "      <td>262.000000</td>\n",
       "    </tr>\n",
       "    <tr>\n",
       "      <th>2024-07-29</th>\n",
       "      <td>575.200012</td>\n",
       "      <td>263.700012</td>\n",
       "    </tr>\n",
       "    <tr>\n",
       "      <th>2024-07-30</th>\n",
       "      <td>578.799988</td>\n",
       "      <td>269.100006</td>\n",
       "    </tr>\n",
       "  </tbody>\n",
       "</table>\n",
       "<p>316 rows × 2 columns</p>\n",
       "</div>"
      ],
      "text/plain": [
       "Ticker         LONN.SW     SIKA.SW\n",
       "Date                              \n",
       "2023-04-27  542.120483  237.429871\n",
       "2023-04-28  546.263367  242.368103\n",
       "2023-05-02  545.868896  239.800232\n",
       "2023-05-03  574.079590  241.479218\n",
       "2023-05-04  572.895935  242.071823\n",
       "...                ...         ...\n",
       "2024-07-24  522.599976  262.000000\n",
       "2024-07-25  559.799988  258.500000\n",
       "2024-07-26  581.000000  262.000000\n",
       "2024-07-29  575.200012  263.700012\n",
       "2024-07-30  578.799988  269.100006\n",
       "\n",
       "[316 rows x 2 columns]"
      ]
     },
     "execution_count": 2,
     "metadata": {},
     "output_type": "execute_result"
    }
   ],
   "source": [
    "def getdata():\n",
    "    data = yfin.download(['LONN.SW', 'SIKA.SW'], period= 'max')['Adj Close']\n",
    "    data.index = data.index.tz_localize(None)\n",
    "    data = data.loc[cs.initial_fixing_date: cs.final_fixing_date]\n",
    "    return data \n",
    "\n",
    "data = getdata()\n",
    "data"
   ]
  },
  {
   "cell_type": "code",
   "execution_count": 28,
   "metadata": {},
   "outputs": [
    {
     "data": {
      "text/plain": [
       "np.float64(465.3207055586803)"
      ]
     },
     "execution_count": 28,
     "metadata": {},
     "output_type": "execute_result"
    }
   ],
   "source": [
    "data[\"LONN.SW\"].mean()"
   ]
  },
  {
   "cell_type": "code",
   "execution_count": 3,
   "metadata": {},
   "outputs": [],
   "source": [
    "params_product = {\n",
    "    'Denomination': 1000,\n",
    "    'Coupon_Rate': (0.08 / 4) ,  # Quarterly coupon payments\n",
    "}"
   ]
  },
  {
   "cell_type": "markdown",
   "metadata": {},
   "source": [
    "# Control Variate "
   ]
  },
  {
   "cell_type": "code",
   "execution_count": 4,
   "metadata": {},
   "outputs": [
    {
     "name": "stdout",
     "output_type": "stream",
     "text": [
      "Length of date_list: 315\n",
      "Number of time steps (num_steps): 315\n"
     ]
    },
    {
     "data": {
      "text/plain": [
       "MultiIndex([('LONN.SW',  'sim1'),\n",
       "            ('LONN.SW',  'sim2'),\n",
       "            ('LONN.SW',  'sim3'),\n",
       "            ('LONN.SW',  'sim4'),\n",
       "            ('LONN.SW',  'sim5'),\n",
       "            ('LONN.SW',  'sim6'),\n",
       "            ('LONN.SW',  'sim7'),\n",
       "            ('LONN.SW',  'sim8'),\n",
       "            ('LONN.SW',  'sim9'),\n",
       "            ('LONN.SW', 'sim10'),\n",
       "            ('SIKA.SW',  'sim1'),\n",
       "            ('SIKA.SW',  'sim2'),\n",
       "            ('SIKA.SW',  'sim3'),\n",
       "            ('SIKA.SW',  'sim4'),\n",
       "            ('SIKA.SW',  'sim5'),\n",
       "            ('SIKA.SW',  'sim6'),\n",
       "            ('SIKA.SW',  'sim7'),\n",
       "            ('SIKA.SW',  'sim8'),\n",
       "            ('SIKA.SW',  'sim9'),\n",
       "            ('SIKA.SW', 'sim10')],\n",
       "           names=['Asset', 'Simulation'])"
      ]
     },
     "execution_count": 4,
     "metadata": {},
     "output_type": "execute_result"
    }
   ],
   "source": [
    "sim_t = gbm.multi_asset_gbm_n_sims(plot= False, plotasset= False, nsims=10, data = data, fdos= cs.initial_fixing_date)\n",
    "sim_t.columns"
   ]
  },
  {
   "cell_type": "code",
   "execution_count": 5,
   "metadata": {},
   "outputs": [],
   "source": [
    "# Extract asset paths\n",
    "lonza_path = sim_t['LONN.SW']\n",
    "sika_path = sim_t['SIKA.SW']"
   ]
  },
  {
   "cell_type": "code",
   "execution_count": 6,
   "metadata": {},
   "outputs": [],
   "source": [
    "payoff_gbm_t = pf.payoff(paths1=lonza_path, paths2=sika_path, params=params_product, fdos = cs.initial_fixing_date)"
   ]
  },
  {
   "cell_type": "code",
   "execution_count": 26,
   "metadata": {},
   "outputs": [],
   "source": [
    "def cv2(payoff_gbm, data: pd.DataFrame, fdos, original_sika):\n",
    "    '''\n",
    "    Takes in simulated payoff_gbm.\n",
    "    E_Y is the mean of Lonza for a new set of randomness \n",
    "    \n",
    "    Params:\n",
    "        lonza_path: dataframe of lonza paths on the cs.initial_fixing_date for n sims\n",
    "    \n",
    "    '''\n",
    "    params_product = {\n",
    "    'Denomination': 1000,\n",
    "    'Coupon_Rate': (0.08 / 4) ,  # Quarterly coupon payments\n",
    "}\n",
    "\n",
    "\n",
    "    # computing beta with initial set of GBM simulations \n",
    "    terminal_original_sika = original_sika.iloc[-1].values\n",
    "    var_X = np.var(payoff_gbm, ddof = 1)\n",
    "    var_Y = np.var(terminal_original_sika, ddof = 1)\n",
    "    print('Var_Y:', var_Y)\n",
    "    cov_matrix = np.cov(payoff_gbm, terminal_original_sika, ddof=1)\n",
    "    cov_XY = cov_matrix[0,1]\n",
    "\n",
    "    corr_XY =   cov_XY / np.sqrt(var_X * var_Y)  \n",
    "    print(f\"Correlation between X and Y: {corr_XY:.4f}\") \n",
    "    beta = cov_XY / var_Y\n",
    "    print(f\"Beta (β) Coefficient: {beta}\")\n",
    "        # Compute control variate estimator\n",
    "\n",
    "    # compute mean_X and mean_Y with new set of randomness\n",
    "    sim_extra = gbm.multi_asset_gbm_n_sims(plot= False, plotasset= False, nsims=cs.n_sims, data=data, fdos = fdos) #new lonza set of randomness \n",
    "    sika_path_new = sim_extra['LONN.SW']\n",
    "    sika_path_new_terminal = sika_path_new.iloc[-1].values\n",
    "    lonza_path_new = sim_extra['SIKA.SW']\n",
    "    lonza_path_new_terminal = lonza_path_new.iloc[-1].values\n",
    "    payoff_extra = pf.payoff(lonza_path_new, sika_path_new, params_product, fdos) # new set of X\n",
    "    mean_X = np.mean(payoff_extra)\n",
    "    mean_Y = np.mean(lonza_path_new_terminal)\n",
    "    E_Y = data[\"LONN.SW\"].mean()\n",
    "    theta_CV = mean_X + beta * (mean_Y - E_Y)\n",
    "    print(\"Correction:\", mean_Y - E_Y)\n",
    "\n",
    "    var_theta_CV = var_X - (cov_XY ** 2) / var_Y\n",
    "    variance_reduction = (var_X - var_theta_CV) / var_X * 100\n",
    "    print(f\"Variance Reduction Achieved: {variance_reduction:.2f}%\")\n",
    "    print(\"CV Estimate Payoff :\", theta_CV)\n",
    "    return theta_CV"
   ]
  },
  {
   "cell_type": "code",
   "execution_count": 27,
   "metadata": {},
   "outputs": [
    {
     "name": "stdout",
     "output_type": "stream",
     "text": [
      "Var_Y: 16.28080992736973\n",
      "Correlation between X and Y: 0.0983\n",
      "Beta (β) Coefficient: 0.12592855959246765\n",
      "Length of date_list: 315\n",
      "Number of time steps (num_steps): 315\n"
     ]
    },
    {
     "ename": "KeyboardInterrupt",
     "evalue": "",
     "output_type": "error",
     "traceback": [
      "\u001b[1;31m---------------------------------------------------------------------------\u001b[0m",
      "\u001b[1;31mAttributeError\u001b[0m                            Traceback (most recent call last)",
      "File \u001b[1;32mc:\\Users\\Admin\\PycharmProjects\\Simulation Techniques in Finance\\.venv\\lib\\site-packages\\pandas_market_calendars\\market_calendar.py:561\u001b[0m, in \u001b[0;36mMarketCalendar.holidays\u001b[1;34m(self)\u001b[0m\n\u001b[0;32m    560\u001b[0m \u001b[38;5;28;01mtry\u001b[39;00m:\n\u001b[1;32m--> 561\u001b[0m     \u001b[38;5;28;01mreturn\u001b[39;00m \u001b[38;5;28;43mself\u001b[39;49m\u001b[38;5;241;43m.\u001b[39;49m\u001b[43m_holidays\u001b[49m\n\u001b[0;32m    562\u001b[0m \u001b[38;5;28;01mexcept\u001b[39;00m \u001b[38;5;167;01mAttributeError\u001b[39;00m:\n",
      "\u001b[1;31mAttributeError\u001b[0m: 'SIXExchangeCalendar' object has no attribute '_holidays'",
      "\nDuring handling of the above exception, another exception occurred:\n",
      "\u001b[1;31mKeyboardInterrupt\u001b[0m                         Traceback (most recent call last)",
      "Cell \u001b[1;32mIn[27], line 1\u001b[0m\n\u001b[1;32m----> 1\u001b[0m \u001b[43mcv2\u001b[49m\u001b[43m(\u001b[49m\u001b[43mpayoff_gbm\u001b[49m\u001b[38;5;241;43m=\u001b[39;49m\u001b[43mpayoff_gbm_t\u001b[49m\u001b[43m,\u001b[49m\u001b[43m \u001b[49m\u001b[43mdata\u001b[49m\u001b[43m \u001b[49m\u001b[38;5;241;43m=\u001b[39;49m\u001b[43m \u001b[49m\u001b[43mdata\u001b[49m\u001b[43m,\u001b[49m\u001b[43m \u001b[49m\u001b[43mfdos\u001b[49m\u001b[43m \u001b[49m\u001b[38;5;241;43m=\u001b[39;49m\u001b[43m \u001b[49m\u001b[43mcs\u001b[49m\u001b[38;5;241;43m.\u001b[39;49m\u001b[43minitial_fixing_date\u001b[49m\u001b[43m,\u001b[49m\u001b[43m \u001b[49m\u001b[43moriginal_sika\u001b[49m\u001b[38;5;241;43m=\u001b[39;49m\u001b[43msika_path\u001b[49m\u001b[43m)\u001b[49m\n",
      "Cell \u001b[1;32mIn[26], line 36\u001b[0m, in \u001b[0;36mcv2\u001b[1;34m(payoff_gbm, data, fdos, original_sika)\u001b[0m\n\u001b[0;32m     34\u001b[0m lonza_path_new \u001b[38;5;241m=\u001b[39m sim_extra[\u001b[38;5;124m'\u001b[39m\u001b[38;5;124mSIKA.SW\u001b[39m\u001b[38;5;124m'\u001b[39m]\n\u001b[0;32m     35\u001b[0m lonza_path_new_terminal \u001b[38;5;241m=\u001b[39m lonza_path_new\u001b[38;5;241m.\u001b[39miloc[\u001b[38;5;241m-\u001b[39m\u001b[38;5;241m1\u001b[39m]\u001b[38;5;241m.\u001b[39mvalues\n\u001b[1;32m---> 36\u001b[0m payoff_extra \u001b[38;5;241m=\u001b[39m \u001b[43mpf\u001b[49m\u001b[38;5;241;43m.\u001b[39;49m\u001b[43mpayoff\u001b[49m\u001b[43m(\u001b[49m\u001b[43mlonza_path_new\u001b[49m\u001b[43m,\u001b[49m\u001b[43m \u001b[49m\u001b[43msika_path_new\u001b[49m\u001b[43m,\u001b[49m\u001b[43m \u001b[49m\u001b[43mparams_product\u001b[49m\u001b[43m,\u001b[49m\u001b[43m \u001b[49m\u001b[43mfdos\u001b[49m\u001b[43m)\u001b[49m \u001b[38;5;66;03m# new set of X\u001b[39;00m\n\u001b[0;32m     37\u001b[0m mean_X \u001b[38;5;241m=\u001b[39m np\u001b[38;5;241m.\u001b[39mmean(payoff_extra)\n\u001b[0;32m     38\u001b[0m mean_Y \u001b[38;5;241m=\u001b[39m np\u001b[38;5;241m.\u001b[39mmean(lonza_path_new_terminal)\n",
      "File \u001b[1;32mc:\\Users\\Admin\\PycharmProjects\\Simulation Techniques in Finance\\.venv\\MH4518\\WY\\Utils\\payoff.py:85\u001b[0m, in \u001b[0;36mpayoff\u001b[1;34m(paths1, paths2, params, fdos)\u001b[0m\n\u001b[0;32m     83\u001b[0m lonza \u001b[38;5;241m=\u001b[39m paths1[sim_name]\n\u001b[0;32m     84\u001b[0m sika \u001b[38;5;241m=\u001b[39m paths2[sim_name]\n\u001b[1;32m---> 85\u001b[0m early_observation_dates \u001b[38;5;241m=\u001b[39m \u001b[43mdates\u001b[49m\u001b[38;5;241;43m.\u001b[39;49m\u001b[43mget_early_observation_dates\u001b[49m\u001b[43m(\u001b[49m\u001b[43mcs\u001b[49m\u001b[38;5;241;43m.\u001b[39;49m\u001b[43minitial_fixing_date\u001b[49m\u001b[43m,\u001b[49m\u001b[43m \u001b[49m\u001b[43mcs\u001b[49m\u001b[38;5;241;43m.\u001b[39;49m\u001b[43mfinal_fixing_date\u001b[49m\u001b[43m)\u001b[49m\n\u001b[0;32m     87\u001b[0m \u001b[38;5;28;01mfor\u001b[39;00m date_idx, t_date \u001b[38;5;129;01min\u001b[39;00m \u001b[38;5;28menumerate\u001b[39m(early_observation_dates):\n\u001b[0;32m     88\u001b[0m     \u001b[38;5;28;01mif\u001b[39;00m (lonza\u001b[38;5;241m.\u001b[39mloc[t_date] \u001b[38;5;241m>\u001b[39m\u001b[38;5;241m=\u001b[39m cs\u001b[38;5;241m.\u001b[39minitialS1) \u001b[38;5;129;01mand\u001b[39;00m (sika\u001b[38;5;241m.\u001b[39mloc[t_date] \u001b[38;5;241m>\u001b[39m\u001b[38;5;241m=\u001b[39m cs\u001b[38;5;241m.\u001b[39minitialS2):\n\u001b[0;32m     89\u001b[0m         \u001b[38;5;66;03m# Early redemption\u001b[39;00m\n",
      "File \u001b[1;32mc:\\Users\\Admin\\PycharmProjects\\Simulation Techniques in Finance\\.venv\\MH4518\\WY\\Utils\\Dates.py:42\u001b[0m, in \u001b[0;36mget_early_observation_dates\u001b[1;34m(initialdate, enddate)\u001b[0m\n\u001b[0;32m     39\u001b[0m redemption_dates \u001b[38;5;241m=\u001b[39m pd\u001b[38;5;241m.\u001b[39mdate_range(start\u001b[38;5;241m=\u001b[39mfirst_observation_date, end\u001b[38;5;241m=\u001b[39menddate, freq\u001b[38;5;241m=\u001b[39m\u001b[38;5;124m'\u001b[39m\u001b[38;5;124mQ\u001b[39m\u001b[38;5;124m'\u001b[39m)\n\u001b[0;32m     41\u001b[0m \u001b[38;5;66;03m# Filter the dates to include only trading days\u001b[39;00m\n\u001b[1;32m---> 42\u001b[0m trading_days \u001b[38;5;241m=\u001b[39m \u001b[43msix_cal\u001b[49m\u001b[38;5;241;43m.\u001b[39;49m\u001b[43mvalid_days\u001b[49m\u001b[43m(\u001b[49m\u001b[43mstart_date\u001b[49m\u001b[38;5;241;43m=\u001b[39;49m\u001b[43mfirst_observation_date\u001b[49m\u001b[43m,\u001b[49m\u001b[43m \u001b[49m\u001b[43mend_date\u001b[49m\u001b[38;5;241;43m=\u001b[39;49m\u001b[43menddate\u001b[49m\u001b[43m)\u001b[49m\n\u001b[0;32m     43\u001b[0m redemption_dates \u001b[38;5;241m=\u001b[39m [date \u001b[38;5;28;01mfor\u001b[39;00m date \u001b[38;5;129;01min\u001b[39;00m redemption_dates \u001b[38;5;28;01mif\u001b[39;00m date \u001b[38;5;129;01min\u001b[39;00m trading_days]\n\u001b[0;32m     45\u001b[0m \u001b[38;5;66;03m# Make dates timezone naive\u001b[39;00m\n",
      "File \u001b[1;32mc:\\Users\\Admin\\PycharmProjects\\Simulation Techniques in Finance\\.venv\\lib\\site-packages\\pandas_market_calendars\\market_calendar.py:580\u001b[0m, in \u001b[0;36mMarketCalendar.valid_days\u001b[1;34m(self, start_date, end_date, tz)\u001b[0m\n\u001b[0;32m    570\u001b[0m \u001b[38;5;28;01mdef\u001b[39;00m \u001b[38;5;21mvalid_days\u001b[39m(\u001b[38;5;28mself\u001b[39m, start_date, end_date, tz\u001b[38;5;241m=\u001b[39m\u001b[38;5;124m\"\u001b[39m\u001b[38;5;124mUTC\u001b[39m\u001b[38;5;124m\"\u001b[39m):\n\u001b[0;32m    571\u001b[0m \u001b[38;5;250m    \u001b[39m\u001b[38;5;124;03m\"\"\"\u001b[39;00m\n\u001b[0;32m    572\u001b[0m \u001b[38;5;124;03m    Get a DatetimeIndex of valid open business days.\u001b[39;00m\n\u001b[0;32m    573\u001b[0m \n\u001b[1;32m   (...)\u001b[0m\n\u001b[0;32m    577\u001b[0m \u001b[38;5;124;03m    :return: DatetimeIndex of valid business days\u001b[39;00m\n\u001b[0;32m    578\u001b[0m \u001b[38;5;124;03m    \"\"\"\u001b[39;00m\n\u001b[0;32m    579\u001b[0m     \u001b[38;5;28;01mreturn\u001b[39;00m pd\u001b[38;5;241m.\u001b[39mdate_range(\n\u001b[1;32m--> 580\u001b[0m         start_date, end_date, freq\u001b[38;5;241m=\u001b[39m\u001b[38;5;28;43mself\u001b[39;49m\u001b[38;5;241;43m.\u001b[39;49m\u001b[43mholidays\u001b[49m\u001b[43m(\u001b[49m\u001b[43m)\u001b[49m, normalize\u001b[38;5;241m=\u001b[39m\u001b[38;5;28;01mTrue\u001b[39;00m, tz\u001b[38;5;241m=\u001b[39mtz\n\u001b[0;32m    581\u001b[0m     )\n",
      "File \u001b[1;32mc:\\Users\\Admin\\PycharmProjects\\Simulation Techniques in Finance\\.venv\\lib\\site-packages\\pandas_market_calendars\\market_calendar.py:563\u001b[0m, in \u001b[0;36mMarketCalendar.holidays\u001b[1;34m(self)\u001b[0m\n\u001b[0;32m    561\u001b[0m     \u001b[38;5;28;01mreturn\u001b[39;00m \u001b[38;5;28mself\u001b[39m\u001b[38;5;241m.\u001b[39m_holidays\n\u001b[0;32m    562\u001b[0m \u001b[38;5;28;01mexcept\u001b[39;00m \u001b[38;5;167;01mAttributeError\u001b[39;00m:\n\u001b[1;32m--> 563\u001b[0m     \u001b[38;5;28mself\u001b[39m\u001b[38;5;241m.\u001b[39m_holidays \u001b[38;5;241m=\u001b[39m \u001b[43mCustomBusinessDay\u001b[49m\u001b[43m(\u001b[49m\n\u001b[0;32m    564\u001b[0m \u001b[43m        \u001b[49m\u001b[43mholidays\u001b[49m\u001b[38;5;241;43m=\u001b[39;49m\u001b[38;5;28;43mself\u001b[39;49m\u001b[38;5;241;43m.\u001b[39;49m\u001b[43madhoc_holidays\u001b[49m\u001b[43m,\u001b[49m\n\u001b[0;32m    565\u001b[0m \u001b[43m        \u001b[49m\u001b[43mcalendar\u001b[49m\u001b[38;5;241;43m=\u001b[39;49m\u001b[38;5;28;43mself\u001b[39;49m\u001b[38;5;241;43m.\u001b[39;49m\u001b[43mregular_holidays\u001b[49m\u001b[43m,\u001b[49m\n\u001b[0;32m    566\u001b[0m \u001b[43m        \u001b[49m\u001b[43mweekmask\u001b[49m\u001b[38;5;241;43m=\u001b[39;49m\u001b[38;5;28;43mself\u001b[39;49m\u001b[38;5;241;43m.\u001b[39;49m\u001b[43mweekmask\u001b[49m\u001b[43m,\u001b[49m\n\u001b[0;32m    567\u001b[0m \u001b[43m    \u001b[49m\u001b[43m)\u001b[49m\n\u001b[0;32m    568\u001b[0m \u001b[38;5;28;01mreturn\u001b[39;00m \u001b[38;5;28mself\u001b[39m\u001b[38;5;241m.\u001b[39m_holidays\n",
      "File \u001b[1;32moffsets.pyx:4301\u001b[0m, in \u001b[0;36mpandas._libs.tslibs.offsets.CustomBusinessDay.__init__\u001b[1;34m()\u001b[0m\n",
      "File \u001b[1;32moffsets.pyx:1706\u001b[0m, in \u001b[0;36mpandas._libs.tslibs.offsets.BusinessMixin._init_custom\u001b[1;34m()\u001b[0m\n",
      "File \u001b[1;32moffsets.pyx:219\u001b[0m, in \u001b[0;36mpandas._libs.tslibs.offsets._get_calendar\u001b[1;34m()\u001b[0m\n",
      "File \u001b[1;32mc:\\Users\\Admin\\PycharmProjects\\Simulation Techniques in Finance\\.venv\\lib\\site-packages\\pandas\\tseries\\holiday.py:483\u001b[0m, in \u001b[0;36mAbstractHolidayCalendar.holidays\u001b[1;34m(self, start, end, return_name)\u001b[0m\n\u001b[0;32m    476\u001b[0m pre_holidays \u001b[38;5;241m=\u001b[39m [\n\u001b[0;32m    477\u001b[0m     rule\u001b[38;5;241m.\u001b[39mdates(start, end, return_name\u001b[38;5;241m=\u001b[39m\u001b[38;5;28;01mTrue\u001b[39;00m) \u001b[38;5;28;01mfor\u001b[39;00m rule \u001b[38;5;129;01min\u001b[39;00m \u001b[38;5;28mself\u001b[39m\u001b[38;5;241m.\u001b[39mrules\n\u001b[0;32m    478\u001b[0m ]\n\u001b[0;32m    479\u001b[0m \u001b[38;5;28;01mif\u001b[39;00m pre_holidays:\n\u001b[0;32m    480\u001b[0m     \u001b[38;5;66;03m# error: Argument 1 to \"concat\" has incompatible type\u001b[39;00m\n\u001b[0;32m    481\u001b[0m     \u001b[38;5;66;03m# \"List[Union[Series, DatetimeIndex]]\"; expected\u001b[39;00m\n\u001b[0;32m    482\u001b[0m     \u001b[38;5;66;03m# \"Union[Iterable[DataFrame], Mapping[<nothing>, DataFrame]]\"\u001b[39;00m\n\u001b[1;32m--> 483\u001b[0m     holidays \u001b[38;5;241m=\u001b[39m \u001b[43mconcat\u001b[49m\u001b[43m(\u001b[49m\u001b[43mpre_holidays\u001b[49m\u001b[43m)\u001b[49m  \u001b[38;5;66;03m# type: ignore[arg-type]\u001b[39;00m\n\u001b[0;32m    484\u001b[0m \u001b[38;5;28;01melse\u001b[39;00m:\n\u001b[0;32m    485\u001b[0m     \u001b[38;5;66;03m# error: Incompatible types in assignment (expression has type\u001b[39;00m\n\u001b[0;32m    486\u001b[0m     \u001b[38;5;66;03m# \"Series\", variable has type \"DataFrame\")\u001b[39;00m\n\u001b[0;32m    487\u001b[0m     holidays \u001b[38;5;241m=\u001b[39m Series(\n\u001b[0;32m    488\u001b[0m         index\u001b[38;5;241m=\u001b[39mDatetimeIndex([]), dtype\u001b[38;5;241m=\u001b[39m\u001b[38;5;28mobject\u001b[39m\n\u001b[0;32m    489\u001b[0m     )  \u001b[38;5;66;03m# type: ignore[assignment]\u001b[39;00m\n",
      "File \u001b[1;32mc:\\Users\\Admin\\PycharmProjects\\Simulation Techniques in Finance\\.venv\\lib\\site-packages\\pandas\\core\\reshape\\concat.py:395\u001b[0m, in \u001b[0;36mconcat\u001b[1;34m(objs, axis, join, ignore_index, keys, levels, names, verify_integrity, sort, copy)\u001b[0m\n\u001b[0;32m    380\u001b[0m     copy \u001b[38;5;241m=\u001b[39m \u001b[38;5;28;01mFalse\u001b[39;00m\n\u001b[0;32m    382\u001b[0m op \u001b[38;5;241m=\u001b[39m _Concatenator(\n\u001b[0;32m    383\u001b[0m     objs,\n\u001b[0;32m    384\u001b[0m     axis\u001b[38;5;241m=\u001b[39maxis,\n\u001b[1;32m   (...)\u001b[0m\n\u001b[0;32m    392\u001b[0m     sort\u001b[38;5;241m=\u001b[39msort,\n\u001b[0;32m    393\u001b[0m )\n\u001b[1;32m--> 395\u001b[0m \u001b[38;5;28;01mreturn\u001b[39;00m \u001b[43mop\u001b[49m\u001b[38;5;241;43m.\u001b[39;49m\u001b[43mget_result\u001b[49m\u001b[43m(\u001b[49m\u001b[43m)\u001b[49m\n",
      "File \u001b[1;32mc:\\Users\\Admin\\PycharmProjects\\Simulation Techniques in Finance\\.venv\\lib\\site-packages\\pandas\\core\\reshape\\concat.py:637\u001b[0m, in \u001b[0;36m_Concatenator.get_result\u001b[1;34m(self)\u001b[0m\n\u001b[0;32m    633\u001b[0m cons \u001b[38;5;241m=\u001b[39m sample\u001b[38;5;241m.\u001b[39m_constructor\n\u001b[0;32m    635\u001b[0m arrs \u001b[38;5;241m=\u001b[39m [ser\u001b[38;5;241m.\u001b[39m_values \u001b[38;5;28;01mfor\u001b[39;00m ser \u001b[38;5;129;01min\u001b[39;00m \u001b[38;5;28mself\u001b[39m\u001b[38;5;241m.\u001b[39mobjs]\n\u001b[1;32m--> 637\u001b[0m res \u001b[38;5;241m=\u001b[39m \u001b[43mconcat_compat\u001b[49m\u001b[43m(\u001b[49m\u001b[43marrs\u001b[49m\u001b[43m,\u001b[49m\u001b[43m \u001b[49m\u001b[43maxis\u001b[49m\u001b[38;5;241;43m=\u001b[39;49m\u001b[38;5;241;43m0\u001b[39;49m\u001b[43m)\u001b[49m\n\u001b[0;32m    639\u001b[0m new_index: Index\n\u001b[0;32m    640\u001b[0m \u001b[38;5;28;01mif\u001b[39;00m \u001b[38;5;28mself\u001b[39m\u001b[38;5;241m.\u001b[39mignore_index:\n\u001b[0;32m    641\u001b[0m     \u001b[38;5;66;03m# We can avoid surprisingly-expensive _get_concat_axis\u001b[39;00m\n",
      "File \u001b[1;32mc:\\Users\\Admin\\PycharmProjects\\Simulation Techniques in Finance\\.venv\\lib\\site-packages\\pandas\\core\\dtypes\\concat.py:78\u001b[0m, in \u001b[0;36mconcat_compat\u001b[1;34m(to_concat, axis, ea_compat_axis)\u001b[0m\n\u001b[0;32m     76\u001b[0m \u001b[38;5;28;01mif\u001b[39;00m \u001b[38;5;28misinstance\u001b[39m(obj, np\u001b[38;5;241m.\u001b[39mndarray):\n\u001b[0;32m     77\u001b[0m     to_concat_arrs \u001b[38;5;241m=\u001b[39m cast(\u001b[38;5;124m\"\u001b[39m\u001b[38;5;124mSequence[np.ndarray]\u001b[39m\u001b[38;5;124m\"\u001b[39m, to_concat)\n\u001b[1;32m---> 78\u001b[0m     \u001b[38;5;28;01mreturn\u001b[39;00m \u001b[43mnp\u001b[49m\u001b[38;5;241;43m.\u001b[39;49m\u001b[43mconcatenate\u001b[49m\u001b[43m(\u001b[49m\u001b[43mto_concat_arrs\u001b[49m\u001b[43m,\u001b[49m\u001b[43m \u001b[49m\u001b[43maxis\u001b[49m\u001b[38;5;241;43m=\u001b[39;49m\u001b[43maxis\u001b[49m\u001b[43m)\u001b[49m\n\u001b[0;32m     80\u001b[0m to_concat_eas \u001b[38;5;241m=\u001b[39m cast(\u001b[38;5;124m\"\u001b[39m\u001b[38;5;124mSequence[ExtensionArray]\u001b[39m\u001b[38;5;124m\"\u001b[39m, to_concat)\n\u001b[0;32m     81\u001b[0m \u001b[38;5;28;01mif\u001b[39;00m ea_compat_axis:\n\u001b[0;32m     82\u001b[0m     \u001b[38;5;66;03m# We have 1D objects, that don't support axis keyword\u001b[39;00m\n",
      "\u001b[1;31mKeyboardInterrupt\u001b[0m: "
     ]
    }
   ],
   "source": [
    "cv2(payoff_gbm=payoff_gbm_t, data = data, fdos = cs.initial_fixing_date, original_sika=sika_path)"
   ]
  }
 ],
 "metadata": {
  "kernelspec": {
   "display_name": ".venv",
   "language": "python",
   "name": "python3"
  },
  "language_info": {
   "codemirror_mode": {
    "name": "ipython",
    "version": 3
   },
   "file_extension": ".py",
   "mimetype": "text/x-python",
   "name": "python",
   "nbconvert_exporter": "python",
   "pygments_lexer": "ipython3",
   "version": "3.10.7"
  }
 },
 "nbformat": 4,
 "nbformat_minor": 2
}
