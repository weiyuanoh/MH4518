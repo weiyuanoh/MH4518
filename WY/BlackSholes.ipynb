{
 "cells": [
  {
   "cell_type": "code",
   "execution_count": 4,
   "metadata": {},
   "outputs": [],
   "source": [
    "import pandas as pd \n",
    "import numpy as np \n",
    "import matplotlib.pyplot as plt\n",
    "import matplotlib\n",
    "import yfinance as yfin\n",
    "import constants as cs\n",
    "import Dates as dates \n",
    "import payoff as pf\n",
    "import GBM as gbm\n",
    "\n",
    "%reload_ext autoreload\n",
    "%autoreload 2\n",
    "\n"
   ]
  },
  {
   "cell_type": "code",
   "execution_count": 5,
   "metadata": {},
   "outputs": [
    {
     "name": "stderr",
     "output_type": "stream",
     "text": [
      "[*********************100%***********************]  2 of 2 completed\n"
     ]
    },
    {
     "data": {
      "text/html": [
       "<div>\n",
       "<style scoped>\n",
       "    .dataframe tbody tr th:only-of-type {\n",
       "        vertical-align: middle;\n",
       "    }\n",
       "\n",
       "    .dataframe tbody tr th {\n",
       "        vertical-align: top;\n",
       "    }\n",
       "\n",
       "    .dataframe thead th {\n",
       "        text-align: right;\n",
       "    }\n",
       "</style>\n",
       "<table border=\"1\" class=\"dataframe\">\n",
       "  <thead>\n",
       "    <tr style=\"text-align: right;\">\n",
       "      <th>Ticker</th>\n",
       "      <th>LONN.SW</th>\n",
       "      <th>SIKA.SW</th>\n",
       "    </tr>\n",
       "    <tr>\n",
       "      <th>Date</th>\n",
       "      <th></th>\n",
       "      <th></th>\n",
       "    </tr>\n",
       "  </thead>\n",
       "  <tbody>\n",
       "    <tr>\n",
       "      <th>2023-04-27</th>\n",
       "      <td>542.120483</td>\n",
       "      <td>237.429871</td>\n",
       "    </tr>\n",
       "    <tr>\n",
       "      <th>2023-04-28</th>\n",
       "      <td>546.263367</td>\n",
       "      <td>242.368103</td>\n",
       "    </tr>\n",
       "    <tr>\n",
       "      <th>2023-05-02</th>\n",
       "      <td>545.868896</td>\n",
       "      <td>239.800232</td>\n",
       "    </tr>\n",
       "    <tr>\n",
       "      <th>2023-05-03</th>\n",
       "      <td>574.079590</td>\n",
       "      <td>241.479218</td>\n",
       "    </tr>\n",
       "    <tr>\n",
       "      <th>2023-05-04</th>\n",
       "      <td>572.895935</td>\n",
       "      <td>242.071823</td>\n",
       "    </tr>\n",
       "    <tr>\n",
       "      <th>...</th>\n",
       "      <td>...</td>\n",
       "      <td>...</td>\n",
       "    </tr>\n",
       "    <tr>\n",
       "      <th>2024-07-24</th>\n",
       "      <td>522.599976</td>\n",
       "      <td>262.000000</td>\n",
       "    </tr>\n",
       "    <tr>\n",
       "      <th>2024-07-25</th>\n",
       "      <td>559.799988</td>\n",
       "      <td>258.500000</td>\n",
       "    </tr>\n",
       "    <tr>\n",
       "      <th>2024-07-26</th>\n",
       "      <td>581.000000</td>\n",
       "      <td>262.000000</td>\n",
       "    </tr>\n",
       "    <tr>\n",
       "      <th>2024-07-29</th>\n",
       "      <td>575.200012</td>\n",
       "      <td>263.700012</td>\n",
       "    </tr>\n",
       "    <tr>\n",
       "      <th>2024-07-30</th>\n",
       "      <td>578.799988</td>\n",
       "      <td>269.100006</td>\n",
       "    </tr>\n",
       "  </tbody>\n",
       "</table>\n",
       "<p>316 rows × 2 columns</p>\n",
       "</div>"
      ],
      "text/plain": [
       "Ticker         LONN.SW     SIKA.SW\n",
       "Date                              \n",
       "2023-04-27  542.120483  237.429871\n",
       "2023-04-28  546.263367  242.368103\n",
       "2023-05-02  545.868896  239.800232\n",
       "2023-05-03  574.079590  241.479218\n",
       "2023-05-04  572.895935  242.071823\n",
       "...                ...         ...\n",
       "2024-07-24  522.599976  262.000000\n",
       "2024-07-25  559.799988  258.500000\n",
       "2024-07-26  581.000000  262.000000\n",
       "2024-07-29  575.200012  263.700012\n",
       "2024-07-30  578.799988  269.100006\n",
       "\n",
       "[316 rows x 2 columns]"
      ]
     },
     "execution_count": 5,
     "metadata": {},
     "output_type": "execute_result"
    }
   ],
   "source": [
    "\n",
    "\n",
    "def getdata():\n",
    "    data = yfin.download(['LONN.SW', 'SIKA.SW'], period= 'max')['Adj Close']\n",
    "    data.index = data.index.tz_localize(None)\n",
    "    data = data.loc[cs.initial_fixing_date: cs.final_fixing_date]\n",
    "    return data \n",
    "\n",
    "data = getdata()\n",
    "\n",
    "data\n",
    "\n",
    "\n"
   ]
  },
  {
   "cell_type": "code",
   "execution_count": 12,
   "metadata": {},
   "outputs": [],
   "source": [
    "params_product = {\n",
    "    'Denomination': 1000,\n",
    "    'Coupon_Rate': (0.08 / 4) ,  # Quarterly coupon payments\n",
    "}"
   ]
  },
  {
   "cell_type": "code",
   "execution_count": 13,
   "metadata": {},
   "outputs": [],
   "source": [
    "Tlist = dates.num_business_days(cs.initial_fixing_date, cs.final_fixing_date)\n",
    "present_value_list = []\n",
    "indexlist = []"
   ]
  },
  {
   "cell_type": "code",
   "execution_count": 19,
   "metadata": {},
   "outputs": [
    {
     "name": "stdout",
     "output_type": "stream",
     "text": [
      "2024-07-17 00:00:00\n",
      "2024-07-18 00:00:00\n",
      "2024-07-19 00:00:00\n",
      "2024-07-22 00:00:00\n",
      "2024-07-23 00:00:00\n",
      "2024-07-24 00:00:00\n",
      "2024-07-25 00:00:00\n",
      "2024-07-26 00:00:00\n",
      "2024-07-29 00:00:00\n",
      "2024-07-30 00:00:00\n"
     ]
    }
   ],
   "source": [
    "import warnings\n",
    "warnings.filterwarnings(\"ignore\")\n",
    "date_list = dates.get_list_dates(cs.initial_fixing_date, cs.final_fixing_date)\n",
    "date_list = pd.Series(date_list)\n",
    "date_list = date_list.tail(10).tolist()\n",
    "\n",
    "\n",
    "\n",
    "T = date_list\n",
    "present_value_list = []\n",
    "for fdos in T:  \n",
    "    print(fdos)\n",
    "    sim_T = gbm.multi_asset_gbm_n_sims(plot= False, plotasset=False, nsims=cs.n_sims, data = data, fdos=fdos)\n",
    "    lonza_path = sim_T.iloc[:, ::2]\n",
    "    sika_path = sim_T.iloc[:, 1::2]\n",
    "    payoff_T = pf.payoff(lonza_path, sika_path, params_product, fdos)\n",
    "    expected_payoff = np.mean(payoff_T)\n",
    "    present_value = expected_payoff * np.exp(-(0.018)/252*(dates.num_business_days(fdos, cs.final_fixing_date)))\n",
    "    present_value_list.append(present_value)\n",
    "\n"
   ]
  },
  {
   "cell_type": "code",
   "execution_count": 20,
   "metadata": {},
   "outputs": [
    {
     "data": {
      "text/plain": [
       "<Axes: >"
      ]
     },
     "execution_count": 20,
     "metadata": {},
     "output_type": "execute_result"
    },
    {
     "data": {
      "image/png": "[encoded data removed]",
      "text/plain": [
       "<Figure size 640x480 with 1 Axes>"
      ]
     },
     "metadata": {},
     "output_type": "display_data"
    }
   ],
   "source": [
    "present_value_df = pd.DataFrame({'Avg Payoff': present_value_list}, index=T)\n",
    "present_value_df.plot()"
   ]
  },
  {
   "cell_type": "markdown",
   "metadata": {},
   "source": [
    "# Variance Reduction \n",
    "## Control Variate "
   ]
  },
  {
   "cell_type": "code",
   "execution_count": null,
   "metadata": {},
   "outputs": [],
   "source": [
    "import VarianceRedFunc as vr\n",
    "\n",
    "S1_t = lonza_path"
   ]
  },
  {
   "cell_type": "code",
   "execution_count": null,
   "metadata": {},
   "outputs": [],
   "source": []
  }
 ],
 "metadata": {
  "kernelspec": {
   "display_name": ".venv",
   "language": "python",
   "name": "python3"
  },
  "language_info": {
   "codemirror_mode": {
    "name": "ipython",
    "version": 3
   },
   "file_extension": ".py",
   "mimetype": "text/x-python",
   "name": "python",
   "nbconvert_exporter": "python",
   "pygments_lexer": "ipython3",
   "version": "3.10.7"
  }
 },
 "nbformat": 4,
 "nbformat_minor": 2
}
